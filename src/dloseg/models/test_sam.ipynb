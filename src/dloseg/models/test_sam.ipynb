{
 "cells": [
  {
   "cell_type": "code",
   "execution_count": null,
   "metadata": {},
   "outputs": [],
   "source": [
    "from sam2_class import SAM2Wrapper\n",
    "\n",
    "checkpoint_path = '/home/admina/segmetation/DLOSeg/src/sam2_rt/checkpoints/sam2.1_hiera_small.pt'\n",
    "model_cfg = '/home/admina/segmetation/DLOSeg/src/sam2_rt/sam2/configs/sam2.1/sam2.1_hiera_s.yaml'"
   ]
  },
  {
   "cell_type": "code",
   "execution_count": 5,
   "metadata": {},
   "outputs": [
    {
     "ename": "NameError",
     "evalue": "name 'checkpoint_path' is not defined",
     "output_type": "error",
     "traceback": [
      "\u001b[0;31m---------------------------------------------------------------------------\u001b[0m",
      "\u001b[0;31mNameError\u001b[0m                                 Traceback (most recent call last)",
      "Cell \u001b[0;32mIn[5], line 2\u001b[0m\n\u001b[1;32m      1\u001b[0m sam2 \u001b[38;5;241m=\u001b[39m SAM2Wrapper(\n\u001b[0;32m----> 2\u001b[0m     checkpoint_path\u001b[38;5;241m=\u001b[39m\u001b[43mcheckpoint_path\u001b[49m,\n\u001b[1;32m      3\u001b[0m )\n",
      "\u001b[0;31mNameError\u001b[0m: name 'checkpoint_path' is not defined"
     ]
    }
   ],
   "source": [
    "sam2 = SAM2Wrapper(\n",
    "    checkpoint_path=checkpoint_path,\n",
    ")"
   ]
  }
 ],
 "metadata": {
  "kernelspec": {
   "display_name": ".venv",
   "language": "python",
   "name": "python3"
  },
  "language_info": {
   "codemirror_mode": {
    "name": "ipython",
    "version": 3
   },
   "file_extension": ".py",
   "mimetype": "text/x-python",
   "name": "python",
   "nbconvert_exporter": "python",
   "pygments_lexer": "ipython3",
   "version": "3.10.12"
  }
 },
 "nbformat": 4,
 "nbformat_minor": 2
}
