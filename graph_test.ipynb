{
 "cells": [
  {
   "cell_type": "code",
   "execution_count": 2,
   "metadata": {},
   "outputs": [
    {
     "name": "stderr",
     "output_type": "stream",
     "text": [
      "20.61s - pydevd: Sending message related to process being replaced timed-out after 5 seconds\n"
     ]
    },
    {
     "name": "stdout",
     "output_type": "stream",
     "text": [
      "Requirement already satisfied: torch_geometric in ./.venv/lib/python3.10/site-packages (2.6.1)\n",
      "Requirement already satisfied: pyparsing in ./.venv/lib/python3.10/site-packages (from torch_geometric) (3.2.1)\n",
      "Requirement already satisfied: numpy in ./.venv/lib/python3.10/site-packages (from torch_geometric) (1.26.4)\n",
      "Requirement already satisfied: jinja2 in ./.venv/lib/python3.10/site-packages (from torch_geometric) (3.1.4)\n",
      "Requirement already satisfied: aiohttp in ./.venv/lib/python3.10/site-packages (from torch_geometric) (3.11.14)\n",
      "Requirement already satisfied: requests in ./.venv/lib/python3.10/site-packages (from torch_geometric) (2.32.3)\n",
      "Requirement already satisfied: psutil>=5.8.0 in ./.venv/lib/python3.10/site-packages (from torch_geometric) (7.0.0)\n",
      "Requirement already satisfied: tqdm in ./.venv/lib/python3.10/site-packages (from torch_geometric) (4.67.1)\n",
      "Requirement already satisfied: fsspec in ./.venv/lib/python3.10/site-packages (from torch_geometric) (2024.6.1)\n",
      "Requirement already satisfied: async-timeout<6.0,>=4.0 in ./.venv/lib/python3.10/site-packages (from aiohttp->torch_geometric) (5.0.1)\n",
      "Requirement already satisfied: aiosignal>=1.1.2 in ./.venv/lib/python3.10/site-packages (from aiohttp->torch_geometric) (1.3.2)\n",
      "Requirement already satisfied: aiohappyeyeballs>=2.3.0 in ./.venv/lib/python3.10/site-packages (from aiohttp->torch_geometric) (2.6.1)\n",
      "Requirement already satisfied: frozenlist>=1.1.1 in ./.venv/lib/python3.10/site-packages (from aiohttp->torch_geometric) (1.5.0)\n",
      "Requirement already satisfied: multidict<7.0,>=4.5 in ./.venv/lib/python3.10/site-packages (from aiohttp->torch_geometric) (6.2.0)\n",
      "Requirement already satisfied: attrs>=17.3.0 in ./.venv/lib/python3.10/site-packages (from aiohttp->torch_geometric) (25.3.0)\n",
      "Requirement already satisfied: propcache>=0.2.0 in ./.venv/lib/python3.10/site-packages (from aiohttp->torch_geometric) (0.3.1)\n",
      "Requirement already satisfied: yarl<2.0,>=1.17.0 in ./.venv/lib/python3.10/site-packages (from aiohttp->torch_geometric) (1.18.3)\n",
      "Requirement already satisfied: MarkupSafe>=2.0 in ./.venv/lib/python3.10/site-packages (from jinja2->torch_geometric) (2.1.5)\n",
      "Requirement already satisfied: idna<4,>=2.5 in ./.venv/lib/python3.10/site-packages (from requests->torch_geometric) (3.10)\n",
      "Requirement already satisfied: charset-normalizer<4,>=2 in ./.venv/lib/python3.10/site-packages (from requests->torch_geometric) (3.4.1)\n",
      "Requirement already satisfied: urllib3<3,>=1.21.1 in ./.venv/lib/python3.10/site-packages (from requests->torch_geometric) (2.3.0)\n",
      "Requirement already satisfied: certifi>=2017.4.17 in ./.venv/lib/python3.10/site-packages (from requests->torch_geometric) (2025.1.31)\n",
      "Requirement already satisfied: typing-extensions>=4.1.0 in ./.venv/lib/python3.10/site-packages (from multidict<7.0,>=4.5->aiohttp->torch_geometric) (4.12.2)\n"
     ]
    }
   ],
   "source": [
    "! pip install torch_geometric"
   ]
  },
  {
   "cell_type": "code",
   "execution_count": 193,
   "metadata": {},
   "outputs": [],
   "source": [
    "import torch\n",
    "import numpy as np\n",
    "from torch_geometric.data import Data\n",
    "from torch_geometric.utils import degree\n",
    "import cv2\n",
    "import matplotlib.pyplot as plt\n",
    "mask_graph = cv2.imread('/home/admina/segmetation/DLOSeg/outputs/grounded_sam2_local_demo/groundingdino_mask_0.png', cv2.IMREAD_GRAYSCALE)\n",
    "height, width = mask_graph.shape\n",
    "# optoinaly use blure \n",
    "# blurred = cv2.GaussianBlur(mask_graph, (3, 3), sigmaX=1.0)\n",
    "# Downsample to half size with high-quality interpolation\n",
    "\n",
    "\"\"\"\n",
    "Downsampling with OpenCV (`cv2.resize`):\n",
    "\n",
    "OpenCV provides several interpolation methods for resizing images. When downsampling,\n",
    "choosing the right interpolation is key to preserving image quality.\n",
    "\n",
    "Interpolation options:\n",
    "\n",
    "- cv2.INTER_NEAREST: Nearest-neighbor interpolation\n",
    "    * Very fast, but produces blocky results\n",
    "    * Not recommended for quality-sensitive tasks\n",
    "\n",
    "- cv2.INTER_LINEAR: Bilinear interpolation (default for upsampling)\n",
    "    * Reasonably fast and smoother than nearest\n",
    "    * Good for general use\n",
    "\n",
    "- cv2.INTER_AREA: Resampling using pixel area relation\n",
    "    * **Best for downsampling**\n",
    "    * Reduces aliasing by averaging pixel values\n",
    "\n",
    "- cv2.INTER_CUBIC: Bicubic interpolation over 4x4 pixel neighborhoods\n",
    "    * Higher quality than linear, slower\n",
    "\n",
    "- cv2.INTER_LANCZOS4: Lanczos interpolation over an 8x8 pixel neighborhood\n",
    "    * **Best quality for downsampling**\n",
    "    * Computationally expensive\n",
    "\n",
    "Recommended for downsampling:\n",
    "    - Use `cv2.INTER_AREA` for a balance between quality and speed\n",
    "    - Use `cv2.INTER_LANCZOS4` when highest quality is needed\n",
    "\n",
    "Optional anti-aliasing tip:\n",
    "    - Apply a slight Gaussian blur before downsampling to further reduce aliasing artifacts\n",
    "\"\"\"\n",
    "# allwase H,W\n",
    "mask = cv2.resize(mask_graph, (width // 2, height // 2), interpolation=cv2.INTER_AREA)\n",
    "mask = (mask > 0).astype(np.uint8)  # Convert to binary mask\n",
    "hight, width = mask.shape"
   ]
  },
  {
   "cell_type": "code",
   "execution_count": null,
   "metadata": {},
   "outputs": [],
   "source": []
  },
  {
   "cell_type": "code",
   "execution_count": 194,
   "metadata": {},
   "outputs": [
    {
     "data": {
      "image/png": "[encoded data removed]",
      "text/plain": [
       "<Figure size 640x480 with 1 Axes>"
      ]
     },
     "metadata": {},
     "output_type": "display_data"
    },
    {
     "name": "stdout",
     "output_type": "stream",
     "text": [
      "(621, 1104)\n"
     ]
    }
   ],
   "source": [
    "# mask_graph = cv2.ximgproc.thinning(mask_graph.astype(np.uint8), thinningType=cv2.ximgproc.THINNING_ZHANGSUEN)\n",
    "\n",
    "plt.imshow(mask)\n",
    "plt.show()\n",
    "\n",
    "\n",
    "print(mask.shape)"
   ]
  },
  {
   "cell_type": "code",
   "execution_count": null,
   "metadata": {},
   "outputs": [
    {
     "data": {
      "text/plain": [
       "(621, 1104)"
      ]
     },
     "execution_count": 114,
     "metadata": {},
     "output_type": "execute_result"
    }
   ],
   "source": [
    "# on image the x is the row from left to right and y is the column from top to bottom\n",
    "# and shape[0] is the y and shape[1] is the x\n",
    "mask_graph.shape\n",
    "\n",
    "# so in order to go to a graph we need the y to be hight - y "
   ]
  },
  {
   "cell_type": "code",
   "execution_count": null,
   "metadata": {},
   "outputs": [
    {
     "name": "stdout",
     "output_type": "stream",
     "text": [
      "Graph creation time: 0.1084 seconds\n"
     ]
    }
   ],
   "source": []
  },
  {
   "cell_type": "code",
   "execution_count": null,
   "metadata": {},
   "outputs": [],
   "source": [
    "# Convert skeleton mask to graph\n",
    "mask_graph = (mask_graph > 0).astype(np.uint8)\n",
    "nodes = np.argwhere(mask_graph == 1)\n",
    "node_indices = {tuple(node): idx for idx, node in enumerate(nodes)}\n",
    "\n",
    "edge_list = []\n",
    "directions = [(-1, -1), (-1, 0), (-1, 1),\n",
    "              (0, -1),          (0, 1),\n",
    "              (1, -1),  (1, 0), (1, 1)]\n",
    "\n",
    "for y, x in nodes:\n",
    "    for dy, dx in directions:\n",
    "        ny, nx = y + dy, x + dx\n",
    "        if 0 <= ny < mask_graph.shape[0] and 0 <= nx < mask_graph.shape[1]:\n",
    "            if mask_graph[ny, nx]:\n",
    "                edge_list.append([node_indices[(y, x)], node_indices[(ny, nx)]])\n",
    "\n"
   ]
  },
  {
   "cell_type": "code",
   "execution_count": 53,
   "metadata": {},
   "outputs": [],
   "source": [
    "from scipy.sparse import coo_matrix\n",
    "\n",
    "def binary_mask_to_graph_fast(mask, connectivity=4):\n",
    "    assert connectivity in (4, 8), \"Connectivity must be 4 or 8\"\n",
    "    mask = np.asarray(mask, dtype=bool)\n",
    "    rows, cols = np.nonzero(mask)\n",
    "    node_indices = {(r, c): i for i, (r, c) in enumerate(zip(rows, cols))}\n",
    "    \n",
    "    # Directions based on connectivity\n",
    "    directions = [(-1, 0), (1, 0), (0, -1), (0, 1)] if connectivity == 4 else [\n",
    "        (-1, -1), (-1, 0), (-1, 1),\n",
    "        (0, -1),          (0, 1),\n",
    "        (1, -1),  (1, 0), (1, 1)\n",
    "    ]\n",
    "    \n",
    "    edge_set = set()\n",
    "    for dr, dc in directions:\n",
    "        neighbor_rows, neighbor_cols = rows + dr, cols + dc\n",
    "        valid = (\n",
    "            (neighbor_rows >= 0) & (neighbor_rows < mask.shape[0]) &\n",
    "            (neighbor_cols >= 0) & (neighbor_cols < mask.shape[1]) &\n",
    "            mask[neighbor_rows, neighbor_cols]\n",
    "        )\n",
    "        \n",
    "        for idx, is_valid in enumerate(valid):\n",
    "            if is_valid:\n",
    "                node_a = node_indices[(rows[idx], cols[idx])]\n",
    "                node_b = node_indices[(neighbor_rows[idx], neighbor_cols[idx])]\n",
    "                if node_a < node_b:  # avoid duplicates\n",
    "                    edge_set.add((node_a, node_b))\n",
    "                else:\n",
    "                    edge_set.add((node_b, node_a))\n",
    "\n",
    "    G = nx.Graph()\n",
    "    G.add_nodes_from(range(len(rows)))\n",
    "    G.add_edges_from(edge_set)\n",
    "    \n",
    "    return G"
   ]
  },
  {
   "cell_type": "code",
   "execution_count": null,
   "metadata": {},
   "outputs": [],
   "source": [
    "\n",
    "nodes = zip(*np.nonzero(mask))\n",
    "for y,x in  nodes:\n",
    "    print(y,x)"
   ]
  },
  {
   "cell_type": "code",
   "execution_count": 206,
   "metadata": {},
   "outputs": [],
   "source": [
    "import networkx as nx\n",
    "def binary_mask_to_graph(mask, connectivity=4):\n",
    "    \"\"\"\n",
    "    Converts a binary mask into a graph using given connectivity.\n",
    "\n",
    "    Parameters:\n",
    "        mask (np.ndarray): 2D binary mask (dtype=bool or 0/1)\n",
    "        connectivity (int): 4 or 8 (pixel connectivity)\n",
    "\n",
    "    Returns:\n",
    "        G (networkx.Graph): Graph with pixel (row, col) as nodes\n",
    "    \"\"\"\n",
    "    assert connectivity in (4, 8), \"Connectivity must be 4 or 8\"\n",
    "    \n",
    "    hight, width = mask.shape\n",
    "    mask = np.asarray(mask).astype(bool)\n",
    "\n",
    "    directions = [(-1, 0), (1, 0), (0, -1), (0, 1)] if connectivity == 4 else \\\n",
    "                 [(-1, -1), (-1, 0), (-1, 1),\n",
    "                  (0, -1),          (0, 1),\n",
    "                  (1, -1),  (1, 0), (1, 1)]\n",
    "\n",
    "    nodes = zip(*np.nonzero(mask))\n",
    "    # node_indices = {node: idx for idx, node in enumerate(nodes)}\n",
    "\n",
    "    G = nx.Graph()\n",
    "    G.add_nodes_from(nodes)\n",
    "\n",
    "    edge_list = []\n",
    "\n",
    "    # for y, x in nodes:\n",
    "    #     for dy, dx in directions:\n",
    "    #         ny, nx_ = y + dy, x + dx\n",
    "    #         if 0 <= ny < hight and 0 <= nx_ < width:\n",
    "    #             if mask[ny, nx_]:\n",
    "    #                 edge_list.append([(y, x), (ny, nx_)])\n",
    "    for y,x in nodes:\n",
    "        # if y == 0 or y == hight-1 or x == 0 or x == width-1:\n",
    "        #     continue\n",
    "        # Check the 3x3 neighborhood\n",
    "        view = mask[y-1:y+2, x-1:x+2]\n",
    "        neoghbors = np.argwhere(view)\n",
    "        for neighbor in neoghbors:\n",
    "            ny, nx_ = neighbor\n",
    "            ny += y - 1\n",
    "            nx_ += x - 1\n",
    "            if 0 <= ny < hight and 0 <= nx_ < width:\n",
    "                if mask[ny, nx_]:\n",
    "                    edge_list.append([(y, x), (ny, nx_)])\n",
    "    G.add_edges_from(edge_list)\n",
    "\n",
    "    return G\n",
    "G = binary_mask_to_graph(mask, connectivity=8)\n"
   ]
  },
  {
   "cell_type": "code",
   "execution_count": null,
   "metadata": {},
   "outputs": [],
   "source": [
    "\n",
    "\n",
    "# for ende in G.edges():\n",
    "#     x , y = ende\n",
    "#     print(x, y)"
   ]
  },
  {
   "cell_type": "code",
   "execution_count": null,
   "metadata": {},
   "outputs": [
    {
     "data": {
      "text/plain": [
       "array([244, 244, 244, ..., 620, 620, 620])"
      ]
     },
     "execution_count": 86,
     "metadata": {},
     "output_type": "execute_result"
    }
   ],
   "source": [
    "# nodes = np.asarray(G.nodes())\n",
    "# nodes[:,0]                    y = hight - y\n"
   ]
  },
  {
   "cell_type": "code",
   "execution_count": null,
   "metadata": {},
   "outputs": [],
   "source": []
  },
  {
   "cell_type": "code",
   "execution_count": 204,
   "metadata": {},
   "outputs": [
    {
     "data": {
      "text/plain": [
       "(0,)"
      ]
     },
     "execution_count": 204,
     "metadata": {},
     "output_type": "execute_result"
    }
   ],
   "source": [
    "edges = np.asarray(G.edges())\n",
    "edges.shape\n"
   ]
  },
  {
   "cell_type": "code",
   "execution_count": 158,
   "metadata": {},
   "outputs": [
    {
     "data": {
      "text/plain": [
       "[<matplotlib.lines.Line2D at 0x7c6b349a2770>,\n",
       " <matplotlib.lines.Line2D at 0x7c6b361a7a30>]"
      ]
     },
     "execution_count": 158,
     "metadata": {},
     "output_type": "execute_result"
    },
    {
     "data": {
      "image/png": "[encoded data removed]",
      "text/plain": [
       "<Figure size 640x480 with 1 Axes>"
      ]
     },
     "metadata": {},
     "output_type": "display_data"
    }
   ],
   "source": [
    "plt.plot(edges[:,:,1], hight - edges[:,:,0], 'ro-')"
   ]
  },
  {
   "cell_type": "code",
   "execution_count": 189,
   "metadata": {},
   "outputs": [
    {
     "ename": "IndexError",
     "evalue": "too many indices for array: array is 1-dimensional, but 3 were indexed",
     "output_type": "error",
     "traceback": [
      "\u001b[0;31m---------------------------------------------------------------------------\u001b[0m",
      "\u001b[0;31mIndexError\u001b[0m                                Traceback (most recent call last)",
      "Cell \u001b[0;32mIn[189], line 24\u001b[0m\n\u001b[1;32m     20\u001b[0m     \u001b[38;5;66;03m# plt.axis('equal')\u001b[39;00m\n\u001b[1;32m     21\u001b[0m     \u001b[38;5;66;03m# plt.axis('off')\u001b[39;00m\n\u001b[1;32m     22\u001b[0m     plt\u001b[38;5;241m.\u001b[39mshow()\n\u001b[0;32m---> 24\u001b[0m \u001b[43mdraw_nx_graph\u001b[49m\u001b[43m(\u001b[49m\u001b[43mG\u001b[49m\u001b[43m)\u001b[49m\n",
      "Cell \u001b[0;32mIn[189], line 19\u001b[0m, in \u001b[0;36mdraw_nx_graph\u001b[0;34m(graph, img_size)\u001b[0m\n\u001b[1;32m     16\u001b[0m plt\u001b[38;5;241m.\u001b[39mscatter(nodes[:,\u001b[38;5;241m1\u001b[39m],img_size[\u001b[38;5;241m0\u001b[39m] \u001b[38;5;241m-\u001b[39m nodes[:,\u001b[38;5;241m0\u001b[39m],s\u001b[38;5;241m=\u001b[39m\u001b[38;5;241m1\u001b[39m, c\u001b[38;5;241m=\u001b[39m\u001b[38;5;124m'\u001b[39m\u001b[38;5;124mred\u001b[39m\u001b[38;5;124m'\u001b[39m)\n\u001b[1;32m     17\u001b[0m edges \u001b[38;5;241m=\u001b[39m np\u001b[38;5;241m.\u001b[39masarray(graph\u001b[38;5;241m.\u001b[39medges())\n\u001b[0;32m---> 19\u001b[0m plt\u001b[38;5;241m.\u001b[39mplot(\u001b[43medges\u001b[49m\u001b[43m[\u001b[49m\u001b[43m:\u001b[49m\u001b[43m:\u001b[49m\u001b[38;5;241;43m500\u001b[39;49m\u001b[43m,\u001b[49m\u001b[43m:\u001b[49m\u001b[43m,\u001b[49m\u001b[38;5;241;43m1\u001b[39;49m\u001b[43m]\u001b[49m,img_size[\u001b[38;5;241m0\u001b[39m] \u001b[38;5;241m-\u001b[39m edges[::\u001b[38;5;241m500\u001b[39m,:,\u001b[38;5;241m0\u001b[39m], color\u001b[38;5;241m=\u001b[39m\u001b[38;5;124m'\u001b[39m\u001b[38;5;124mblue\u001b[39m\u001b[38;5;124m'\u001b[39m)\n\u001b[1;32m     20\u001b[0m \u001b[38;5;66;03m# plt.axis('equal')\u001b[39;00m\n\u001b[1;32m     21\u001b[0m \u001b[38;5;66;03m# plt.axis('off')\u001b[39;00m\n\u001b[1;32m     22\u001b[0m plt\u001b[38;5;241m.\u001b[39mshow()\n",
      "\u001b[0;31mIndexError\u001b[0m: too many indices for array: array is 1-dimensional, but 3 were indexed"
     ]
    },
    {
     "data": {
      "image/png": "[encoded data removed]",
      "text/plain": [
       "<Figure size 800x800 with 1 Axes>"
      ]
     },
     "metadata": {},
     "output_type": "display_data"
    }
   ],
   "source": [
    "import matplotlib.pyplot as plt\n",
    "# Function to draw the graph\n",
    "def draw_nx_graph(graph, img_size=(621, 1104)):\n",
    "    \n",
    "    # img = np.zeros(img_size, dtype=np.uint8)\n",
    "    plt.figure(figsize=(8, 8))\n",
    "    # pos = {(y, x): idx  for idx, (y, x) in enumerate(graph.nodes())}  # Flip y-axis for correct visual orientation\n",
    "\n",
    "    # for edge in edge_index.t().cpu().numpy():\n",
    "    # for edge in graph.edges():\n",
    "    #     # src, dst = edge\n",
    "    #     y_coords, x_coords = edge\n",
    "    #     # x_coords, y_coords = zip(pos[src], pos[dst])\n",
    "    #     plt.plot(list(x_coords), list(y_coords), color='blue')\n",
    "    nodes = np.asarray(graph.nodes())\n",
    "    plt.scatter(nodes[:,1],img_size[0] - nodes[:,0],s=1, c='red')\n",
    "    edges = np.asarray(graph.edges())\n",
    "    \n",
    "    plt.plot(edges[::500,:,1],img_size[0] - edges[::500,:,0], color='blue')\n",
    "    # plt.axis('equal')\n",
    "    # plt.axis('off')\n",
    "    plt.show()\n",
    "    \n",
    "draw_nx_graph(G)"
   ]
  },
  {
   "cell_type": "code",
   "execution_count": 26,
   "metadata": {},
   "outputs": [
    {
     "data": {
      "text/plain": [
       "[]"
      ]
     },
     "execution_count": 26,
     "metadata": {},
     "output_type": "execute_result"
    }
   ],
   "source": [
    "edge_list"
   ]
  },
  {
   "cell_type": "code",
   "execution_count": null,
   "metadata": {},
   "outputs": [],
   "source": [
    "\n",
    "# # Your provided skeleton mask\n",
    "# graph = np.array([[0, 0, 0, 1, 1, 0, 0, 0, 0, 0, 0, 0, 0, 0, 1],\n",
    "#                   [0, 0, 0, 0, 1, 0, 0, 0, 0, 0, 0, 1, 1, 1, 1],\n",
    "#                   [0, 0, 0, 0, 1, 0, 0, 0, 0, 0, 1, 0, 0, 0, 0],\n",
    "#                   [0, 0, 0, 0, 0, 1, 0, 0, 0, 1, 0, 0, 0, 0, 0],\n",
    "#                   [0, 0, 0, 0, 0, 0, 1, 1, 1, 0, 0, 0, 0, 0, 0],\n",
    "#                   [0, 0, 0, 0, 0, 0, 0, 1, 0, 0, 0, 0, 0, 0, 0],\n",
    "#                   [0, 0, 0, 0, 0, 0, 0, 1, 0, 0, 0, 0, 0, 0, 0],\n",
    "#                   [0, 0, 0, 0, 0, 0, 0, 1, 0, 0, 0, 0, 0, 0, 0],\n",
    "#                   [0, 0, 0, 0, 0, 0, 0, 1, 0, 0, 0, 0, 0, 0, 0],\n",
    "#                   [0, 0, 0, 0, 0, 0, 0, 1, 0, 0, 0, 0, 0, 0, 0],\n",
    "#                   [0, 0, 0, 0, 0, 0, 1, 1, 0, 0, 0, 0, 0, 0, 0],\n",
    "#                   [0, 0, 0, 0, 0, 1, 0, 0, 1, 0, 0, 0, 0, 0, 0],\n",
    "#                   [0, 0, 0, 0, 1, 0, 0, 0, 0, 1, 0, 0, 0, 0, 0],\n",
    "#                   [0, 0, 0, 1, 0, 0, 0, 0, 0, 1, 0, 0, 0, 0, 0],\n",
    "#                   [1, 1, 1, 1, 0, 0, 0, 0, 0, 0, 1, 0, 0, 0, 0]])\n"
   ]
  },
  {
   "cell_type": "code",
   "execution_count": null,
   "metadata": {},
   "outputs": [
    {
     "data": {
      "text/plain": [
       "tensor([[    0,     0,     0,  ..., 22911, 22911, 22911],\n",
       "        [    1,    34,    35,  ..., 22868, 22869, 22910]], device='cuda:0')"
      ]
     },
     "execution_count": 300,
     "metadata": {},
     "output_type": "execute_result"
    }
   ],
   "source": []
  },
  {
   "cell_type": "code",
   "execution_count": null,
   "metadata": {},
   "outputs": [],
   "source": []
  },
  {
   "cell_type": "code",
   "execution_count": 110,
   "metadata": {},
   "outputs": [
    {
     "name": "stdout",
     "output_type": "stream",
     "text": [
      "Time taken for simplification: 0.024459123611450195\n"
     ]
    },
    {
     "data": {
      "image/png": "[encoded data removed]",
      "text/plain": [
       "<Figure size 800x800 with 1 Axes>"
      ]
     },
     "metadata": {},
     "output_type": "display_data"
    }
   ],
   "source": [
    "from scipy.spatial.distance import cdist\n",
    "from scipy.spatial import cKDTree\n",
    "import time\n",
    "def simplify_intersections_fast(nodes, edge_index, threshold=1.0):\n",
    "    # Build KD-tree for fast radius search\n",
    "    tree = cKDTree(nodes)\n",
    "    \n",
    "    n = len(nodes)\n",
    "    visited = np.zeros(n, dtype=bool)\n",
    "    clusters = []\n",
    "    \n",
    "    for i in range(n):\n",
    "        if visited[i]:\n",
    "            continue\n",
    "        # Find neighbors within threshold\n",
    "        cluster = tree.query_ball_point(nodes[i], threshold)\n",
    "        cluster = set(cluster)\n",
    "        clusters.append(cluster)\n",
    "        for idx in cluster:\n",
    "            visited[idx] = True\n",
    "\n",
    "    # Generate new nodes (averaged cluster centers)\n",
    "    new_nodes = []\n",
    "    node_mapping = {}\n",
    "    for new_idx, cluster in enumerate(clusters):\n",
    "        cluster = list(cluster)\n",
    "        mean_pos = np.round(nodes[cluster].mean(axis=0)).astype(int)\n",
    "        new_nodes.append(mean_pos)\n",
    "        for old_idx in cluster:\n",
    "            node_mapping[old_idx] = new_idx\n",
    "\n",
    "    new_nodes = np.array(new_nodes)\n",
    "\n",
    "    # Remap edges\n",
    "    edge_array = edge_index.cpu().numpy().T\n",
    "    new_edges = {\n",
    "        (node_mapping[src], node_mapping[dst])\n",
    "        for src, dst in edge_array\n",
    "        if node_mapping[src] != node_mapping[dst]\n",
    "    }\n",
    "\n",
    "    new_edge_index = torch.tensor(list(new_edges), dtype=torch.long).t()\n",
    "    \n",
    "    return new_nodes, new_edge_index\n",
    "\n",
    "def simplify_intersections(nodes, edge_index, threshold=1.0):\n",
    "    # Compute pairwise distances between nodes\n",
    "    distances = cdist(nodes, nodes)\n",
    "    np.fill_diagonal(distances, np.inf)  # Ignore self-distances\n",
    "\n",
    "    # Find clusters (nodes closer than threshold)\n",
    "    clusters = []\n",
    "    visited = set()\n",
    "    \n",
    "    for idx in range(len(nodes)):\n",
    "        if idx in visited:\n",
    "            continue\n",
    "        cluster = set(np.where(distances[idx] <= threshold)[0])\n",
    "        cluster.add(idx)\n",
    "        visited.update(cluster)\n",
    "        clusters.append(cluster)\n",
    "\n",
    "    # Map old node indices to new node indices\n",
    "    new_nodes = []\n",
    "    node_mapping = {}\n",
    "    for new_idx, cluster in enumerate(clusters):\n",
    "        cluster_nodes = nodes[list(cluster)]\n",
    "        representative = np.round(cluster_nodes.mean(axis=0)).astype(int)\n",
    "        new_nodes.append(representative)\n",
    "        for old_idx in cluster:\n",
    "            node_mapping[old_idx] = new_idx\n",
    "\n",
    "    new_nodes = np.array(new_nodes)\n",
    "\n",
    "    # Remap edges\n",
    "    new_edges = set()\n",
    "    for edge in edge_index.cpu().numpy().T:\n",
    "        src, dst = node_mapping[edge[0]], node_mapping[edge[1]]\n",
    "        if src != dst:\n",
    "            new_edges.add((src, dst))\n",
    "\n",
    "    new_edge_index = torch.tensor(list(new_edges), dtype=torch.long).t().contiguous()\n",
    "\n",
    "    return new_nodes, new_edge_index\n",
    "start = time.time()\n",
    "# Apply simplification to your graph\n",
    "simplified_nodes, simplified_edge_index = simplify_intersections_fast(nodes, edge_index, threshold=9.0)\n",
    "print(\"Time taken for simplification:\", time.time() - start)\n",
    "# Draw simplified graph\n",
    "draw_graph(simplified_nodes, simplified_edge_index)\n"
   ]
  },
  {
   "cell_type": "code",
   "execution_count": 109,
   "metadata": {},
   "outputs": [
    {
     "name": "stdout",
     "output_type": "stream",
     "text": [
      "Nodes with degree 1 (endpoints): tensor([  7, 127, 128], device='cuda:0')\n",
      "Nodes with degree 2 (straight lines): tensor([  0,   1,   2,   3,   4,   5,   6,   8,   9,  10,  11,  12,  13,  14,\n",
      "         15,  16,  17,  18,  19,  20,  21,  22,  23,  24,  25,  26,  27,  28,\n",
      "         29,  31,  32,  33,  34,  36,  39,  40,  41,  45,  48,  50,  53,  56,\n",
      "         59,  62,  63,  64,  65,  66,  67,  68,  69,  70,  71,  72,  73,  74,\n",
      "         75,  76,  77,  78,  79,  80,  81,  82,  83,  84,  86,  87,  89,  90,\n",
      "         91,  92,  93,  94,  95,  96,  97,  98,  99, 100, 101, 102, 103, 104,\n",
      "        105, 106, 107, 108, 109, 110, 111, 112, 113, 114, 115, 116, 117, 118,\n",
      "        119, 120, 122, 123, 125, 129], device='cuda:0')\n",
      "Nodes with degree 3 or 4 (junctions): tensor([ 35,  37,  38,  42,  43,  44,  46,  49,  51,  54,  55,  58,  60,  61,\n",
      "         85,  88, 121, 124, 126], device='cuda:0')\n",
      "Nodes with degree > 4 (complex junctions): tensor([47, 52, 57], device='cuda:0')\n",
      "Time taken for simplification: 0.002337932586669922\n"
     ]
    }
   ],
   "source": [
    "start = time.time()\n",
    "# Create edge_index tensor\n",
    "# edge_index = torch.tensor(simplified_edge_index, dtype=torch.long) # [index,N]\n",
    "\n",
    "# Move graph to GPU (optional, if CUDA available)\n",
    "device = torch.device('cuda' if torch.cuda.is_available() else 'cpu')\n",
    "edge_index = edge_index.to(device)\n",
    "\n",
    "# Create graph data object\n",
    "data = Data(edge_index=simplified_edge_index, num_nodes=len(simplified_nodes)).to(device)\n",
    "\n",
    "# Calculate degrees of nodes\n",
    "degrees = degree(data.edge_index[0], num_nodes=data.num_nodes)\n",
    "\n",
    "print(\"Nodes with degree 1 (endpoints):\", (degrees == 1).nonzero(as_tuple=True)[0])\n",
    "print(\"Nodes with degree 2 (straight lines):\", (degrees == 2).nonzero(as_tuple=True)[0])\n",
    "print(\"Nodes with degree 3 or 4 (junctions):\", ((degrees == 3) | (degrees == 4)).nonzero(as_tuple=True)[0])\n",
    "print(\"Nodes with degree > 4 (complex junctions):\", (degrees > 4).nonzero(as_tuple=True)[0])\n",
    "print(\"Time taken for simplification:\", time.time() - start)"
   ]
  },
  {
   "cell_type": "code",
   "execution_count": null,
   "metadata": {},
   "outputs": [
    {
     "data": {
      "text/plain": [
       "[3, 0, 2]"
      ]
     },
     "execution_count": 168,
     "metadata": {},
     "output_type": "execute_result"
    }
   ],
   "source": [
    "# walk the graph from end point to end point \n",
    "\n",
    "simplified_edge_index[1][simplified_edge_index[0] == 1].tolist()\n"
   ]
  },
  {
   "cell_type": "code",
   "execution_count": null,
   "metadata": {},
   "outputs": [],
   "source": []
  },
  {
   "cell_type": "code",
   "execution_count": null,
   "metadata": {},
   "outputs": [],
   "source": [
    "from collections import defaultdict\n",
    "\n",
    "def traverse_graph(edge_index, start_node):\n",
    "    visited = set()\n",
    "    stack = [start_node]\n",
    "    path = []\n",
    "\n",
    "    while stack:\n",
    "        node = stack.pop()\n",
    "        if node not in visited:\n",
    "            visited.add(node)\n",
    "            path.append(node)\n",
    "            neighbors = edge_index[1][edge_index[0] == node].tolist()\n",
    "            if len(neighbors) == 2:\n",
    "                stack.extend(neighbors)\n",
    "    return path\n",
    "\n",
    "def find_paths_of_length_n(data, start_node, n):\n",
    "    # Convert edge_index to adjacency list\n",
    "    edge_index = data.edge_index\n",
    "    num_nodes = data.num_nodes\n",
    "\n",
    "    adj_list = defaultdict(list)\n",
    "    for src, dst in edge_index.t().tolist():\n",
    "        adj_list[src].append(dst)\n",
    "        # Uncomment the next line if the graph is undirected\n",
    "        # adj_list[dst].append(src)\n",
    "\n",
    "    paths = []\n",
    "\n",
    "    def dfs(current_node, path):\n",
    "        if len(path) == n + 1:  # path of length n has n+1 nodes\n",
    "            paths.append(path[:])\n",
    "            return\n",
    "        for neighbor in adj_list[current_node]:\n",
    "            if neighbor not in path:  # prevent revisiting\n",
    "                path.append(neighbor)\n",
    "                dfs(neighbor, path)\n",
    "                path.pop()\n",
    "\n",
    "    dfs(start_node, [start_node])\n",
    "    # return nodes path \n",
    "    return paths"
   ]
  },
  {
   "cell_type": "code",
   "execution_count": null,
   "metadata": {},
   "outputs": [
    {
     "data": {
      "text/plain": [
       "[[5, 3, 1, 0, 2, 4, 6, 7, 8, 9, 10], [5, 3, 1, 2, 4, 6, 7, 8, 9, 10, 11]]"
      ]
     },
     "execution_count": 188,
     "metadata": {},
     "output_type": "execute_result"
    }
   ],
   "source": []
  },
  {
   "cell_type": "code",
   "execution_count": null,
   "metadata": {},
   "outputs": [
    {
     "data": {
      "text/plain": [
       "[5, 3, 1, 0, 2, 4, 6, 7, 8, 9, 10]"
      ]
     },
     "execution_count": 201,
     "metadata": {},
     "output_type": "execute_result"
    }
   ],
   "source": []
  },
  {
   "cell_type": "code",
   "execution_count": null,
   "metadata": {},
   "outputs": [],
   "source": []
  },
  {
   "cell_type": "code",
   "execution_count": null,
   "metadata": {},
   "outputs": [
    {
     "data": {
      "text/plain": [
       "[(5, 3),\n",
       " (3, 1),\n",
       " (1, 0),\n",
       " (0, 2),\n",
       " (2, 4),\n",
       " (4, 6),\n",
       " (6, 7),\n",
       " (7, 8),\n",
       " (8, 9),\n",
       " (9, 10)]"
      ]
     },
     "execution_count": 203,
     "metadata": {},
     "output_type": "execute_result"
    }
   ],
   "source": []
  },
  {
   "cell_type": "code",
   "execution_count": null,
   "metadata": {},
   "outputs": [
    {
     "name": "stdout",
     "output_type": "stream",
     "text": [
      "[(5, 3), (3, 1), (1, 0), (0, 2), (2, 4), (4, 6), (6, 7), (7, 8), (8, 9), (9, 10)]\n",
      "[[ 502 1518]\n",
      " [ 498 1500]\n",
      " [ 494 1478]\n",
      " [ 494 1456]\n",
      " [ 497 1433]\n",
      " [ 503 1410]\n",
      " [ 512 1390]\n",
      " [ 526 1372]\n",
      " [ 543 1358]\n",
      " [ 562 1345]\n",
      " [ 582 1336]]\n"
     ]
    }
   ],
   "source": []
  },
  {
   "cell_type": "code",
   "execution_count": null,
   "metadata": {},
   "outputs": [
    {
     "data": {
      "image/png": "[encoded data removed]",
      "text/plain": [
       "<Figure size 800x800 with 1 Axes>"
      ]
     },
     "metadata": {},
     "output_type": "display_data"
    }
   ],
   "source": [
    "\n"
   ]
  }
 ],
 "metadata": {
  "kernelspec": {
   "display_name": ".venv",
   "language": "python",
   "name": "python3"
  },
  "language_info": {
   "codemirror_mode": {
    "name": "ipython",
    "version": 3
   },
   "file_extension": ".py",
   "mimetype": "text/x-python",
   "name": "python",
   "nbconvert_exporter": "python",
   "pygments_lexer": "ipython3",
   "version": "3.10.12"
  }
 },
 "nbformat": 4,
 "nbformat_minor": 2
}
