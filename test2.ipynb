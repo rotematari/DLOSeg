{
 "cells": [
  {
   "cell_type": "code",
   "execution_count": 1,
   "metadata": {},
   "outputs": [
    {
     "data": {
      "text/plain": [
       "[10, 9, 8, 7, 6, 5, 4, 3, 2, 1]"
      ]
     },
     "execution_count": 1,
     "metadata": {},
     "output_type": "execute_result"
    }
   ],
   "source": [
    "path = [1,2,3,4,5,6,7,8,9,10]\n",
    "\n",
    "path[::-1]"
   ]
  },
  {
   "cell_type": "code",
   "execution_count": 236,
   "metadata": {},
   "outputs": [],
   "source": [
    "import numpy as np\n",
    "\n",
    "graph = np.array(  [[0, 0, 0, 1, 1, 0, 0, 0, 0, 0, 0, 0, 0, 0, 1],\n",
    "                    [0, 0, 0, 0, 1, 0, 0, 0, 0, 0, 0, 1, 1, 1, 1],\n",
    "                    [0, 0, 0, 0, 1, 0, 0, 0, 0, 0, 1, 0, 0, 0, 0],\n",
    "                    [0, 0, 0, 0, 0, 1, 0, 0, 0, 1, 0, 0, 0, 0, 0],\n",
    "                    [0, 0, 0, 0, 0, 0, 1, 1, 1, 0, 0, 0, 0, 0, 0],\n",
    "                    [0, 0, 0, 0, 0, 0, 0, 1, 0, 0, 0, 0, 0, 0, 0],\n",
    "                    [0, 0, 0, 0, 0, 0, 0, 1, 0, 0, 0, 0, 0, 0, 0],\n",
    "                    [0, 0, 0, 0, 0, 0, 0, 1, 0, 0, 0, 0, 0, 0, 0],\n",
    "                    [0, 0, 0, 0, 0, 0, 0, 1, 0, 0, 0, 0, 0, 0, 0],\n",
    "                    [0, 0, 0, 0, 0, 0, 0, 1, 0, 0, 0, 0, 0, 0, 0],\n",
    "                    [0, 0, 0, 0, 0, 0, 1, 1, 0, 0, 0, 0, 0, 0, 0],\n",
    "                    [0, 0, 0, 0, 0, 1, 0, 0, 1, 0, 0, 0, 0, 0, 0],\n",
    "                    [0, 0, 0, 0, 1, 0, 0, 0, 0, 1, 0, 0, 0, 0, 0],\n",
    "                    [0, 0, 0, 1, 0, 0, 0, 0, 0, 1, 0, 0, 0, 0, 0],\n",
    "                    [1, 1, 1, 1, 0, 0, 0, 0, 0, 0, 1, 0, 0, 0, 0]])\n",
    "\n",
    "\n"
   ]
  },
  {
   "cell_type": "code",
   "execution_count": 250,
   "metadata": {},
   "outputs": [
    {
     "data": {
      "text/plain": [
       "[(0, 3), (1, 14), (14, 10), (14, 0), (0, 14)]"
      ]
     },
     "execution_count": 250,
     "metadata": {},
     "output_type": "execute_result"
    }
   ],
   "source": [
    "def get_boundary_edges(graph):\n",
    "    # Zero the inner region\n",
    "    graph[1:-1, 1:-1] = 0\n",
    "\n",
    "    # Find positions of boundary edges\n",
    "    edge_positions = np.argwhere(graph == 1)\n",
    "\n",
    "    best_edges = set()\n",
    "\n",
    "    # Process each boundary individually:\n",
    "    for boundary, axis, idx in [('top', 0, 0), ('bottom', 0, graph.shape[0]-1),\n",
    "                                ('left', 1, 0), ('right', 1, graph.shape[1]-1)]:\n",
    "        edges_on_side = edge_positions[edge_positions[:, axis] == idx]\n",
    "\n",
    "        if len(edges_on_side) == 0:\n",
    "            continue\n",
    "\n",
    "        # Sort edges based on the other coordinate\n",
    "        other_axis = 1 - axis\n",
    "        sorted_edges = edges_on_side[np.argsort(edges_on_side[:, other_axis])]\n",
    "\n",
    "        # Add first and last edge if there are multiple edges, else just one\n",
    "        best_edges.add(tuple(sorted_edges[0]))\n",
    "        if len(sorted_edges) > 1:\n",
    "            best_edges.add(tuple(sorted_edges[-1]))\n",
    "\n",
    "    return list(best_edges)\n",
    "\n",
    "get_boundary_edges(graph)"
   ]
  },
  {
   "cell_type": "code",
   "execution_count": 259,
   "metadata": {},
   "outputs": [
    {
     "name": "stdout",
     "output_type": "stream",
     "text": [
      "[(0, 3), (1, 14), (14, 10), (14, 0)]\n"
     ]
    }
   ],
   "source": [
    "graph[1 : - 1, 1 : - 1] = 0\n",
    "\n",
    "edges = np.where(graph == 1)\n",
    "new_edges = []\n",
    "for edge in zip(*edges):\n",
    "    new_edges.append(edge)\n",
    "# print(new_edges)\n",
    "new_edges = np.asarray(new_edges)\n",
    "\n",
    "best_edges = []\n",
    "# top row\n",
    "best_indx = np.where(new_edges[:,0] == 0)[0]\n",
    "best_edges.extend(new_edges[[best_indx[0], best_indx[-1]]])\n",
    "# bottom row\n",
    "best_indx = np.where(new_edges[:,0] == 14)[0]\n",
    "best_edges.extend(new_edges[[best_indx[0], best_indx[-1]]])\n",
    "# left column\n",
    "best_indx = np.where(new_edges[:,1] == 0)[0]\n",
    "if len(best_indx) > 1:\n",
    "    best_edges.extend(new_edges[[best_indx[0], best_indx[-1]]])\n",
    "\n",
    "# # right column\n",
    "best_indx = np.where(new_edges[:,1] == 14)[0]\n",
    "if len(best_indx) > 1:\n",
    "    best_edges.extend(new_edges[[best_indx[0], best_indx[-1]]])\n",
    "\n",
    "best_edges = [tuple(x) for x in best_edges ]\n",
    "best_edges = list(set(best_edges))\n",
    "\n",
    "print(best_edges[:4])"
   ]
  },
  {
   "cell_type": "code",
   "execution_count": 257,
   "metadata": {},
   "outputs": [
    {
     "data": {
      "text/plain": [
       "[(0, 3), (1, 14), (14, 10), (14, 0), (0, 14)]"
      ]
     },
     "execution_count": 257,
     "metadata": {},
     "output_type": "execute_result"
    }
   ],
   "source": [
    "list(set(best_edges))"
   ]
  },
  {
   "cell_type": "code",
   "execution_count": null,
   "metadata": {},
   "outputs": [
    {
     "data": {
      "text/plain": [
       "array([2, 3])"
      ]
     },
     "execution_count": 155,
     "metadata": {},
     "output_type": "execute_result"
    }
   ],
   "source": []
  },
  {
   "cell_type": "code",
   "execution_count": 144,
   "metadata": {},
   "outputs": [
    {
     "name": "stdout",
     "output_type": "stream",
     "text": [
      "new_edges [[ 0  3]\n",
      " [ 0 14]\n",
      " [ 1 14]\n",
      " [ 1 14]\n",
      " [14  2]\n",
      " [14 10]]\n"
     ]
    }
   ],
   "source": [
    "for i in range(new_edges.shape[1]):\n",
    "    uniqs = np.unique(new_edges[:,0])\n",
    "    starts = []\n",
    "    ends = []\n",
    "    list_of_indices = []\n",
    "    for un in uniqs:\n",
    "        locations = np.argwhere(new_edges[:,0] == un)\n",
    "        # print(\"locations\", locations)\n",
    "        list_of_indices.append(locations[0][0].tolist())\n",
    "        list_of_indices.append(locations[-1][0].tolist())\n",
    "    new_edges = new_edges[list_of_indices]\n",
    "\n",
    "# print(\"list_of_indices\", list_of_indices)\n",
    "\n",
    "print(\"new_edges\", new_edges)"
   ]
  },
  {
   "cell_type": "code",
   "execution_count": null,
   "metadata": {},
   "outputs": [
    {
     "name": "stdout",
     "output_type": "stream",
     "text": [
      "[0]\n",
      "[2]\n"
     ]
    }
   ],
   "source": []
  },
  {
   "cell_type": "code",
   "execution_count": null,
   "metadata": {},
   "outputs": [
    {
     "data": {
      "text/plain": [
       "array([[0],\n",
       "       [1],\n",
       "       [2]])"
      ]
     },
     "execution_count": 89,
     "metadata": {},
     "output_type": "execute_result"
    }
   ],
   "source": []
  },
  {
   "cell_type": "code",
   "execution_count": null,
   "metadata": {},
   "outputs": [
    {
     "name": "stdout",
     "output_type": "stream",
     "text": [
      "list_of_indices [array([0, 0, 0, 1, 0]), array([1, 1, 2, 1, 0]), array([0, 0, 0, 1, 1]), array([1, 1, 2, 1, 1]), array([0, 0, 0, 0, 1]), array([0, 1, 0, 0, 1]), array([0, 0, 0, 0, 0]), array([1, 1, 2, 0, 1])]\n"
     ]
    }
   ],
   "source": []
  },
  {
   "cell_type": "code",
   "execution_count": null,
   "metadata": {},
   "outputs": [
    {
     "data": {
      "text/plain": [
       "array([[[[[14, 10],\n",
       "          [ 0,  3]],\n",
       "\n",
       "         [[ 0, 14],\n",
       "          [ 0,  3]],\n",
       "\n",
       "         [[ 0,  3],\n",
       "          [ 0,  3]]],\n",
       "\n",
       "\n",
       "        [[[14, 10],\n",
       "          [ 0,  3]],\n",
       "\n",
       "         [[ 0, 14],\n",
       "          [ 0,  3]],\n",
       "\n",
       "         [[ 0,  3],\n",
       "          [ 0,  3]]]],\n",
       "\n",
       "\n",
       "\n",
       "       [[[[ 0,  3],\n",
       "          [ 0,  3]],\n",
       "\n",
       "         [[ 0,  3],\n",
       "          [ 0,  3]],\n",
       "\n",
       "         [[ 0, 14],\n",
       "          [ 0,  3]]],\n",
       "\n",
       "\n",
       "        [[[ 0,  3],\n",
       "          [ 0,  3]],\n",
       "\n",
       "         [[ 0,  3],\n",
       "          [ 0,  3]],\n",
       "\n",
       "         [[ 0, 14],\n",
       "          [ 0,  3]]]]])"
      ]
     },
     "execution_count": 119,
     "metadata": {},
     "output_type": "execute_result"
    }
   ],
   "source": []
  },
  {
   "cell_type": "code",
   "execution_count": 90,
   "metadata": {},
   "outputs": [
    {
     "name": "stdout",
     "output_type": "stream",
     "text": [
      "start []\n",
      "end []\n"
     ]
    }
   ],
   "source": [
    "uniqs = np.unique(edges[1])\n",
    "starts = []\n",
    "ends = []\n",
    "for un in uniqs:\n",
    "    \n",
    "    locations = np.argwhere(edges[1] == un)\n",
    "    if len(locations) > 2:\n",
    "        starts.append(locations[0])\n",
    "        ends.append(locations[-1])\n",
    "\n",
    "\n",
    "print(\"start\", starts)\n",
    "print(\"end\", ends)"
   ]
  }
 ],
 "metadata": {
  "kernelspec": {
   "display_name": ".venv",
   "language": "python",
   "name": "python3"
  },
  "language_info": {
   "codemirror_mode": {
    "name": "ipython",
    "version": 3
   },
   "file_extension": ".py",
   "mimetype": "text/x-python",
   "name": "python",
   "nbconvert_exporter": "python",
   "pygments_lexer": "ipython3",
   "version": "3.10.12"
  }
 },
 "nbformat": 4,
 "nbformat_minor": 2
}
