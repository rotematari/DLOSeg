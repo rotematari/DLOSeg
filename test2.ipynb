{
 "cells": [
  {
   "cell_type": "code",
   "execution_count": 11,
   "metadata": {},
   "outputs": [],
   "source": [
    "import numpy as np\n",
    "\n",
    "# make a 2D array of shape (m, n) with random values\n",
    "\n",
    "random_positions = np.random.rand(5, 5)\n",
    "\n",
    "coords = np.array([[0, 0], [1, 1], [2, 2], [3, 3], [4, 4], [5, 5], [6, 6], [7, 7], [8, 8], [9, 9]])"
   ]
  },
  {
   "cell_type": "code",
   "execution_count": null,
   "metadata": {},
   "outputs": [],
   "source": [
    "configs ={\n",
    "        \"sam2\":{\n",
    "            \"checkpoint\": \"/home/admina/segmetation/DLOSeg/src/segment_anything_2_real_time/checkpoints/sam2.1_hiera_small.pt\",\n",
    "            \"config\": \"/home/admina/segmetation/DLOSeg/src/configs/sam2.1/sam2.1_hiera_s.yaml\"\n",
    "        },\n",
    "        \"grounding_dino\":{\n",
    "            \"checkpoint\":\"src/Grounded_SAM_2/grounding_dino/groundingdino/config/GroundingDINO_SwinT_OGC.py\",\n",
    "            \"config\":\"src/Grounded_SAM_2/gdino_checkpoints/groundingdino_swint_ogc.pth\"\n",
    "\n",
    "    }\n",
    "    }"
   ]
  },
  {
   "cell_type": "code",
   "execution_count": 7,
   "metadata": {},
   "outputs": [
    {
     "data": {
      "text/plain": [
       "dict_items([('checkpoint', '/home/admina/segmetation/DLOSeg/src/segment_anything_2_real_time/checkpoints/sam2.1_hiera_small.pt'), ('config', '/home/admina/segmetation/DLOSeg/src/configs/sam2.1/sam2.1_hiera_s.yaml')])"
      ]
     },
     "execution_count": 7,
     "metadata": {},
     "output_type": "execute_result"
    }
   ],
   "source": [
    "configs[\"sam2\"].items()"
   ]
  },
  {
   "cell_type": "code",
   "execution_count": null,
   "metadata": {},
   "outputs": [],
   "source": []
  },
  {
   "cell_type": "code",
   "execution_count": 81,
   "metadata": {},
   "outputs": [
    {
     "data": {
      "text/plain": [
       "0"
      ]
     },
     "execution_count": 81,
     "metadata": {},
     "output_type": "execute_result"
    }
   ],
   "source": [
    "len(dc)"
   ]
  },
  {
   "cell_type": "code",
   "execution_count": 79,
   "metadata": {},
   "outputs": [
    {
     "data": {
      "text/plain": [
       "3"
      ]
     },
     "execution_count": 79,
     "metadata": {},
     "output_type": "execute_result"
    }
   ],
   "source": [
    "min(dc, key=lambda x: dc[x][1])\n"
   ]
  },
  {
   "cell_type": "code",
   "execution_count": null,
   "metadata": {},
   "outputs": [],
   "source": [
    "import numpy as np\n",
    "import torch\n",
    "node_420 = {'pos': (0, 0), 'bending_energy': 4.200407028198242}\n",
    "node_425 = {'pos': (1, 0), 'bending_energy': 0.08311790972948074}\n",
    "node_358 = {'pos': (0, 1), 'bending_energy': 9.93548583984375}\n",
    "np_420 = np.array([node_420['pos'][0], node_420['pos'][1]])\n",
    "np_425 = np.array([node_425['pos'][0], node_425['pos'][1]])\n",
    "np_358 = np.array([node_358['pos'][0], node_358['pos'][1]])\n",
    "\n",
    "prev_edges =  np_420 - np_425\n",
    "next_edges =  np_420 - np_358"
   ]
  },
  {
   "cell_type": "code",
   "execution_count": 58,
   "metadata": {},
   "outputs": [
    {
     "name": "stdout",
     "output_type": "stream",
     "text": [
      "kappa_b: tensor([[ 0.0000, -0.0000, -0.8284]])\n",
      "E_i: tensor([0.8284])\n"
     ]
    }
   ],
   "source": [
    "import torch\n",
    "import torch.nn.functional as F\n",
    "node_420 = {'pos': (0, 0)}\n",
    "node_425 = {'pos': (0, 1)}\n",
    "node_358 = {'pos': (-1, -1)}\n",
    "np_420 = np.array([node_420['pos'][0], node_420['pos'][1]])\n",
    "np_425 = np.array([node_425['pos'][0], node_425['pos'][1]])\n",
    "np_358 = np.array([node_358['pos'][0], node_358['pos'][1]])\n",
    "\n",
    "prev_edges =  np_420 - np_425\n",
    "next_edges =  np_358 - np_420\n",
    "# make sure the edges are 2D vectors\n",
    "if prev_edges.ndim == 1:\n",
    "    prev_edges = prev_edges.reshape(1, -1)\n",
    "if next_edges.ndim == 1:\n",
    "    next_edges = next_edges.reshape(1, -1)\n",
    "# points: (N,2) tensor (requires_grad=True if torch)\n",
    "e_prev = torch.from_numpy(prev_edges).float()  # (N,2)\n",
    "e_next = torch.from_numpy(next_edges).float()  # (N,2)\n",
    "# N×2 → N×3   (append a zero z–component)\n",
    "e_prev3 = F.pad(e_prev, (0, 1))        # (1,3)\n",
    "e_next3 = F.pad(e_next, (0, 1))        # (1,3)\n",
    "\n",
    "cross   = torch.cross(e_prev3, e_next3, dim=1)   # (1,3)\n",
    "dot     = (e_prev3 * e_next3).sum(dim=1)         # (1,)\n",
    "\n",
    "L_prev  = torch.linalg.norm(e_prev3, dim=1)\n",
    "L_next  = torch.linalg.norm(e_next3, dim=1)\n",
    "\n",
    "denom   = (L_prev * L_next + dot).clamp_min(1e-12)\n",
    "kappa_b = 2.0 * cross / denom.unsqueeze(1)       # (1,3)\n",
    "\n",
    "kappa2  = (kappa_b**2).sum(dim=1)                # (1,)\n",
    "l_i     = 0.5 * (L_prev + L_next)                # (1,)\n",
    "E_i     = kappa2 * l_i                           # (1,)\n",
    "\n",
    "print(\"kappa_b:\", kappa_b)\n",
    "print(\"E_i:\", E_i)"
   ]
  },
  {
   "cell_type": "code",
   "execution_count": null,
   "metadata": {},
   "outputs": [],
   "source": []
  },
  {
   "cell_type": "code",
   "execution_count": null,
   "metadata": {},
   "outputs": [],
   "source": []
  },
  {
   "cell_type": "code",
   "execution_count": 38,
   "metadata": {},
   "outputs": [
    {
     "name": "stdout",
     "output_type": "stream",
     "text": [
      "tensor([[-10.,   0.]])\n",
      "tensor([[  0., -10.]])\n",
      "tensor([[0.]])\n",
      "tensor([0.])\n"
     ]
    }
   ],
   "source": [
    "print(e_prev)\n",
    "print(e_next)\n",
    "print(e_prev @ e_next.T)\n",
    "print((e_prev * e_next).sum(dim=1))\n"
   ]
  },
  {
   "cell_type": "code",
   "execution_count": 35,
   "metadata": {},
   "outputs": [
    {
     "ename": "RuntimeError",
     "evalue": "1D tensors expected, but got 2D and 2D tensors",
     "output_type": "error",
     "traceback": [
      "\u001b[0;31m---------------------------------------------------------------------------\u001b[0m",
      "\u001b[0;31mRuntimeError\u001b[0m                              Traceback (most recent call last)",
      "Cell \u001b[0;32mIn[35], line 1\u001b[0m\n\u001b[0;32m----> 1\u001b[0m L_prev \u001b[38;5;241m*\u001b[39m L_next \u001b[38;5;241m+\u001b[39m \u001b[43me_prev\u001b[49m\u001b[38;5;241;43m.\u001b[39;49m\u001b[43mdot\u001b[49m\u001b[43m(\u001b[49m\u001b[43me_next\u001b[49m\u001b[43m)\u001b[49m \u001b[38;5;241m+\u001b[39m \u001b[38;5;241m1e-12\u001b[39m\n",
      "\u001b[0;31mRuntimeError\u001b[0m: 1D tensors expected, but got 2D and 2D tensors"
     ]
    }
   ],
   "source": [
    "L_prev * L_next + e_prev.dot(e_next) + 1e-12"
   ]
  },
  {
   "cell_type": "code",
   "execution_count": null,
   "metadata": {},
   "outputs": [
    {
     "name": "stdout",
     "output_type": "stream",
     "text": [
      "1\n",
      "2\n",
      "3\n"
     ]
    }
   ],
   "source": [
    "kb_i = 2 *  e_prev.cross(e_next) / (L_prev * L_next + e_prev.dot(e_next) + 1e-12)  # κᵢ\n",
    "# Bending energy\n",
    "1.0 * torch.sum(kb_i**2 / li)"
   ]
  },
  {
   "cell_type": "code",
   "execution_count": 9,
   "metadata": {},
   "outputs": [
    {
     "data": {
      "image/png": "[encoded data removed]",
      "text/plain": [
       "<Figure size 640x480 with 1 Axes>"
      ]
     },
     "metadata": {},
     "output_type": "display_data"
    }
   ],
   "source": [
    "def line_points(p1, p2, num=10):\n",
    "    x1, y1 = p1\n",
    "    x2, y2 = p2\n",
    "    t = np.linspace(0, 1, num)\n",
    "    x = (1 - t) * x1 + t * x2\n",
    "    y = (1 - t) * y1 + t * y2\n",
    "    return x, y\n",
    "\n",
    "import matplotlib.pyplot as plt\n",
    "x, y = line_points((1, 2), (5, 4))\n",
    "plt.plot(x, y)\n",
    "plt.scatter(*zip((1, 2), (5, 4)), color='red')  # endpoints\n",
    "plt.axis('equal')\n",
    "plt.show()"
   ]
  },
  {
   "cell_type": "code",
   "execution_count": 3,
   "metadata": {},
   "outputs": [
    {
     "data": {
      "text/plain": [
       "<matplotlib.collections.PathCollection at 0x7267fcbc2950>"
      ]
     },
     "execution_count": 3,
     "metadata": {},
     "output_type": "execute_result"
    },
    {
     "data": {
      "image/png": "[encoded data removed]",
      "text/plain": [
       "<Figure size 640x480 with 1 Axes>"
      ]
     },
     "metadata": {},
     "output_type": "display_data"
    }
   ],
   "source": [
    "import matplotlib.pyplot as plt\n",
    "width = 10\n",
    "hight = 10\n",
    "grid_size = 2\n",
    "xs = []\n",
    "ys = []\n",
    "for x in range(0, width, grid_size):\n",
    "    for y in range(0, hight, grid_size):\n",
    "        xs.append(x)\n",
    "        ys.append(y)\n",
    "        \n",
    "\n",
    "plt.scatter(xs, ys, s=100)"
   ]
  },
  {
   "cell_type": "code",
   "execution_count": 236,
   "metadata": {},
   "outputs": [],
   "source": [
    "import numpy as np\n",
    "\n",
    "graph = np.array(  [[0, 0, 0, 1, 1, 0, 0, 0, 0, 0, 0, 0, 0, 0, 1],\n",
    "                    [0, 0, 0, 0, 1, 0, 0, 0, 0, 0, 0, 1, 1, 1, 1],\n",
    "                    [0, 0, 0, 0, 1, 0, 0, 0, 0, 0, 1, 0, 0, 0, 0],\n",
    "                    [0, 0, 0, 0, 0, 1, 0, 0, 0, 1, 0, 0, 0, 0, 0],\n",
    "                    [0, 0, 0, 0, 0, 0, 1, 1, 1, 0, 0, 0, 0, 0, 0],\n",
    "                    [0, 0, 0, 0, 0, 0, 0, 1, 0, 0, 0, 0, 0, 0, 0],\n",
    "                    [0, 0, 0, 0, 0, 0, 0, 1, 0, 0, 0, 0, 0, 0, 0],\n",
    "                    [0, 0, 0, 0, 0, 0, 0, 1, 0, 0, 0, 0, 0, 0, 0],\n",
    "                    [0, 0, 0, 0, 0, 0, 0, 1, 0, 0, 0, 0, 0, 0, 0],\n",
    "                    [0, 0, 0, 0, 0, 0, 0, 1, 0, 0, 0, 0, 0, 0, 0],\n",
    "                    [0, 0, 0, 0, 0, 0, 1, 1, 0, 0, 0, 0, 0, 0, 0],\n",
    "                    [0, 0, 0, 0, 0, 1, 0, 0, 1, 0, 0, 0, 0, 0, 0],\n",
    "                    [0, 0, 0, 0, 1, 0, 0, 0, 0, 1, 0, 0, 0, 0, 0],\n",
    "                    [0, 0, 0, 1, 0, 0, 0, 0, 0, 1, 0, 0, 0, 0, 0],\n",
    "                    [1, 1, 1, 1, 0, 0, 0, 0, 0, 0, 1, 0, 0, 0, 0]])\n",
    "\n",
    "\n"
   ]
  },
  {
   "cell_type": "code",
   "execution_count": 14,
   "metadata": {},
   "outputs": [],
   "source": [
    "import numpy as np\n",
    "pos = np.array([[0, 0],\n",
    "                [0, 1],\n",
    "                [0, 2],\n",
    "                [0, 3],\n",
    "                [0, 4],\n",
    "                [0, 5],\n",
    "                [0, 6],\n",
    "                [0, 7],\n",
    "                [0, 8],\n",
    "                [0, 9],\n",
    "                [0, 10],\n",
    "                [0, 11],\n",
    "                [0, 12],\n",
    "                [0, 13],\n",
    "                [0, 14]])\n",
    "\n",
    "cluster = [0, 1, 2, 3, 4]"
   ]
  },
  {
   "cell_type": "code",
   "execution_count": 27,
   "metadata": {},
   "outputs": [
    {
     "data": {
      "text/plain": [
       "180.0"
      ]
     },
     "execution_count": 27,
     "metadata": {},
     "output_type": "execute_result"
    }
   ],
   "source": [
    "import math\n",
    "\n",
    "math.degrees(math.atan2(0,-3)) \n"
   ]
  },
  {
   "cell_type": "code",
   "execution_count": 39,
   "metadata": {},
   "outputs": [
    {
     "data": {
      "image/png": "[encoded data removed]",
      "text/plain": [
       "<Figure size 800x400 with 1 Axes>"
      ]
     },
     "metadata": {},
     "output_type": "display_data"
    }
   ],
   "source": [
    "import numpy as np\n",
    "from scipy.interpolate import splrep, splev\n",
    "import matplotlib.pyplot as plt\n",
    "# Assuming x and y are derived from your data\n",
    "x = np.linspace(0, 10, 1500)  # Example x values\n",
    "y = np.sin(x) + np.random.normal(size=x.size)*0.1  # Example y values with noise\n",
    "\n",
    "# Sort the arrays based on x\n",
    "sorted_indices = np.argsort(x)\n",
    "x = x[sorted_indices]\n",
    "y = y[sorted_indices]\n",
    "\n",
    "# Now compute the spline\n",
    "tck = splrep(x, y, s=20)\n",
    "\n",
    "# Define a dense set of x values for evaluation\n",
    "x_fine = np.linspace(x.min(), x.max(), 1000)\n",
    "y_fine = splev(x_fine, tck)\n",
    "\n",
    "plt.figure(figsize=(8, 4))\n",
    "# plt.plot(points[:, 0], points[:, 1], 'ro', label='Data Points')\n",
    "plt.plot(x, y, 'ro', label='Data Points')\n",
    "plt.plot(x_fine, y_fine, 'b-', label='Parametric B-spline Curve')\n",
    "plt.xlabel('x')\n",
    "plt.ylabel('y')\n",
    "plt.legend()\n",
    "plt.title('Parametric B-spline Fitting using splprep/splev')\n",
    "plt.show()\n"
   ]
  },
  {
   "cell_type": "code",
   "execution_count": null,
   "metadata": {},
   "outputs": [],
   "source": []
  },
  {
   "cell_type": "code",
   "execution_count": null,
   "metadata": {},
   "outputs": [],
   "source": []
  },
  {
   "cell_type": "code",
   "execution_count": null,
   "metadata": {},
   "outputs": [],
   "source": []
  },
  {
   "cell_type": "code",
   "execution_count": null,
   "metadata": {},
   "outputs": [],
   "source": []
  },
  {
   "cell_type": "code",
   "execution_count": null,
   "metadata": {},
   "outputs": [],
   "source": []
  },
  {
   "cell_type": "code",
   "execution_count": null,
   "metadata": {},
   "outputs": [],
   "source": []
  },
  {
   "cell_type": "code",
   "execution_count": null,
   "metadata": {},
   "outputs": [
    {
     "name": "stdout",
     "output_type": "stream",
     "text": [
      "start []\n",
      "end []\n"
     ]
    }
   ],
   "source": []
  }
 ],
 "metadata": {
  "kernelspec": {
   "display_name": ".venv",
   "language": "python",
   "name": "python3"
  },
  "language_info": {
   "codemirror_mode": {
    "name": "ipython",
    "version": 3
   },
   "file_extension": ".py",
   "mimetype": "text/x-python",
   "name": "python",
   "nbconvert_exporter": "python",
   "pygments_lexer": "ipython3",
   "version": "3.10.12"
  }
 },
 "nbformat": 4,
 "nbformat_minor": 2
}
